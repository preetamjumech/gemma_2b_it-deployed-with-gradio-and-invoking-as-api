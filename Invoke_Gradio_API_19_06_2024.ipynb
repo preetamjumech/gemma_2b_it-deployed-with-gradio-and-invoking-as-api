{
  "nbformat": 4,
  "nbformat_minor": 0,
  "metadata": {
    "colab": {
      "provenance": [],
      "authorship_tag": "ABX9TyOXMTXODC2hPS/B8z/nTPPd",
      "include_colab_link": true
    },
    "kernelspec": {
      "name": "python3",
      "display_name": "Python 3"
    },
    "language_info": {
      "name": "python"
    }
  },
  "cells": [
    {
      "cell_type": "markdown",
      "metadata": {
        "id": "view-in-github",
        "colab_type": "text"
      },
      "source": [
        "<a href=\"https://colab.research.google.com/github/preetamjumech/gemma_2b_it-deployed-with-gradio-and-invoking-as-api/blob/main/Invoke_Gradio_API_19_06_2024.ipynb\" target=\"_parent\"><img src=\"https://colab.research.google.com/assets/colab-badge.svg\" alt=\"Open In Colab\"/></a>"
      ]
    },
    {
      "cell_type": "code",
      "execution_count": 1,
      "metadata": {
        "colab": {
          "base_uri": "https://localhost:8080/"
        },
        "collapsed": true,
        "id": "4CYZkdlfiP9v",
        "outputId": "4003b49b-ca69-4cd9-df7c-53d60f9278bd"
      },
      "outputs": [
        {
          "output_type": "stream",
          "name": "stdout",
          "text": [
            "Collecting gradio-client==1.0.1\n",
            "  Downloading gradio_client-1.0.1-py3-none-any.whl (318 kB)\n",
            "\u001b[2K     \u001b[90m━━━━━━━━━━━━━━━━━━━━━━━━━━━━━━━━━━━━━━━━\u001b[0m \u001b[32m318.1/318.1 kB\u001b[0m \u001b[31m2.7 MB/s\u001b[0m eta \u001b[36m0:00:00\u001b[0m\n",
            "\u001b[?25hRequirement already satisfied: fsspec in /usr/local/lib/python3.10/dist-packages (from gradio-client==1.0.1) (2023.6.0)\n",
            "Collecting httpx>=0.24.1 (from gradio-client==1.0.1)\n",
            "  Downloading httpx-0.27.0-py3-none-any.whl (75 kB)\n",
            "\u001b[2K     \u001b[90m━━━━━━━━━━━━━━━━━━━━━━━━━━━━━━━━━━━━━━━━\u001b[0m \u001b[32m75.6/75.6 kB\u001b[0m \u001b[31m3.1 MB/s\u001b[0m eta \u001b[36m0:00:00\u001b[0m\n",
            "\u001b[?25hRequirement already satisfied: huggingface-hub>=0.19.3 in /usr/local/lib/python3.10/dist-packages (from gradio-client==1.0.1) (0.23.3)\n",
            "Requirement already satisfied: packaging in /usr/local/lib/python3.10/dist-packages (from gradio-client==1.0.1) (24.1)\n",
            "Requirement already satisfied: typing-extensions~=4.0 in /usr/local/lib/python3.10/dist-packages (from gradio-client==1.0.1) (4.12.2)\n",
            "Collecting websockets<12.0,>=10.0 (from gradio-client==1.0.1)\n",
            "  Downloading websockets-11.0.3-cp310-cp310-manylinux_2_5_x86_64.manylinux1_x86_64.manylinux_2_17_x86_64.manylinux2014_x86_64.whl (129 kB)\n",
            "\u001b[2K     \u001b[90m━━━━━━━━━━━━━━━━━━━━━━━━━━━━━━━━━━━━━━━━\u001b[0m \u001b[32m129.9/129.9 kB\u001b[0m \u001b[31m5.3 MB/s\u001b[0m eta \u001b[36m0:00:00\u001b[0m\n",
            "\u001b[?25hRequirement already satisfied: anyio in /usr/local/lib/python3.10/dist-packages (from httpx>=0.24.1->gradio-client==1.0.1) (3.7.1)\n",
            "Requirement already satisfied: certifi in /usr/local/lib/python3.10/dist-packages (from httpx>=0.24.1->gradio-client==1.0.1) (2024.6.2)\n",
            "Collecting httpcore==1.* (from httpx>=0.24.1->gradio-client==1.0.1)\n",
            "  Downloading httpcore-1.0.5-py3-none-any.whl (77 kB)\n",
            "\u001b[2K     \u001b[90m━━━━━━━━━━━━━━━━━━━━━━━━━━━━━━━━━━━━━━━━\u001b[0m \u001b[32m77.9/77.9 kB\u001b[0m \u001b[31m5.7 MB/s\u001b[0m eta \u001b[36m0:00:00\u001b[0m\n",
            "\u001b[?25hRequirement already satisfied: idna in /usr/local/lib/python3.10/dist-packages (from httpx>=0.24.1->gradio-client==1.0.1) (3.7)\n",
            "Requirement already satisfied: sniffio in /usr/local/lib/python3.10/dist-packages (from httpx>=0.24.1->gradio-client==1.0.1) (1.3.1)\n",
            "Collecting h11<0.15,>=0.13 (from httpcore==1.*->httpx>=0.24.1->gradio-client==1.0.1)\n",
            "  Downloading h11-0.14.0-py3-none-any.whl (58 kB)\n",
            "\u001b[2K     \u001b[90m━━━━━━━━━━━━━━━━━━━━━━━━━━━━━━━━━━━━━━━━\u001b[0m \u001b[32m58.3/58.3 kB\u001b[0m \u001b[31m4.6 MB/s\u001b[0m eta \u001b[36m0:00:00\u001b[0m\n",
            "\u001b[?25hRequirement already satisfied: filelock in /usr/local/lib/python3.10/dist-packages (from huggingface-hub>=0.19.3->gradio-client==1.0.1) (3.14.0)\n",
            "Requirement already satisfied: pyyaml>=5.1 in /usr/local/lib/python3.10/dist-packages (from huggingface-hub>=0.19.3->gradio-client==1.0.1) (6.0.1)\n",
            "Requirement already satisfied: requests in /usr/local/lib/python3.10/dist-packages (from huggingface-hub>=0.19.3->gradio-client==1.0.1) (2.31.0)\n",
            "Requirement already satisfied: tqdm>=4.42.1 in /usr/local/lib/python3.10/dist-packages (from huggingface-hub>=0.19.3->gradio-client==1.0.1) (4.66.4)\n",
            "Requirement already satisfied: exceptiongroup in /usr/local/lib/python3.10/dist-packages (from anyio->httpx>=0.24.1->gradio-client==1.0.1) (1.2.1)\n",
            "Requirement already satisfied: charset-normalizer<4,>=2 in /usr/local/lib/python3.10/dist-packages (from requests->huggingface-hub>=0.19.3->gradio-client==1.0.1) (3.3.2)\n",
            "Requirement already satisfied: urllib3<3,>=1.21.1 in /usr/local/lib/python3.10/dist-packages (from requests->huggingface-hub>=0.19.3->gradio-client==1.0.1) (2.0.7)\n",
            "Installing collected packages: websockets, h11, httpcore, httpx, gradio-client\n",
            "Successfully installed gradio-client-1.0.1 h11-0.14.0 httpcore-1.0.5 httpx-0.27.0 websockets-11.0.3\n"
          ]
        }
      ],
      "source": [
        "!pip install gradio-client==1.0.1"
      ]
    },
    {
      "cell_type": "code",
      "source": [
        "import json\n",
        "from gradio_client import Client"
      ],
      "metadata": {
        "id": "rR3ExjivirAZ"
      },
      "execution_count": 2,
      "outputs": []
    },
    {
      "cell_type": "code",
      "source": [
        "url = \"https://28369cf78d77c61d43.gradio.live/\""
      ],
      "metadata": {
        "id": "RPnepdH0jEPl"
      },
      "execution_count": 19,
      "outputs": []
    },
    {
      "cell_type": "code",
      "source": [
        "input_data = {\"query\": \"What is Machine Learning?\"}\n",
        "input_data_json = json.dumps(input_data)"
      ],
      "metadata": {
        "id": "bp3tmi8njNUy"
      },
      "execution_count": 18,
      "outputs": []
    },
    {
      "cell_type": "code",
      "source": [
        "client = Client(url)"
      ],
      "metadata": {
        "colab": {
          "base_uri": "https://localhost:8080/"
        },
        "id": "otxA6IUFjfBI",
        "outputId": "7b5d225b-9dd7-476a-f6db-1a4cb8f65dd8"
      },
      "execution_count": 20,
      "outputs": [
        {
          "output_type": "stream",
          "name": "stdout",
          "text": [
            "Loaded as API: https://28369cf78d77c61d43.gradio.live/ ✔\n"
          ]
        }
      ]
    },
    {
      "cell_type": "code",
      "source": [
        "result = client.predict(input_data_json, api_name = \"/predict\")"
      ],
      "metadata": {
        "id": "bb3cj6mOjmwH"
      },
      "execution_count": 21,
      "outputs": []
    },
    {
      "cell_type": "code",
      "source": [
        "type(result)"
      ],
      "metadata": {
        "colab": {
          "base_uri": "https://localhost:8080/"
        },
        "id": "qnditW76j8Dd",
        "outputId": "0fbec4d8-dced-443e-9128-e0391f83c94d"
      },
      "execution_count": 22,
      "outputs": [
        {
          "output_type": "execute_result",
          "data": {
            "text/plain": [
              "str"
            ]
          },
          "metadata": {},
          "execution_count": 22
        }
      ]
    },
    {
      "cell_type": "code",
      "source": [
        "result"
      ],
      "metadata": {
        "colab": {
          "base_uri": "https://localhost:8080/",
          "height": 123
        },
        "id": "SyemfmpYnqNy",
        "outputId": "f9872b04-708e-4248-b825-1aaccdf6fa13"
      },
      "execution_count": 23,
      "outputs": [
        {
          "output_type": "execute_result",
          "data": {
            "text/plain": [
              "'{\"What is Machine Learning?\\\\n\\\\nMachine learning (ML) is a subfield of artificial intelligence (AI) that enables computers to learn from data without explicit programming. This allows machines to improve their performance over time based on the data they are trained on.\\\\n\\\\nHere\\'s a breakdown of the key aspects of machine learning:\\\\n\\\\n**1. Data:**\\\\n- ML algorithms require vast amounts of data to learn from.\\\\n- Data should be diverse, high-quality, and representative of the real world.\\\\n\\\\n**2. Algorithms:**\\\\n- Different algorithms exist for different tasks, such as classification, regression, and clustering.\\\\n- Each algorithm has its strengths and weaknesses.\\\\n\\\\n**3. Learning process:**\\\\n- ML algorithms go through a learning process where they analyze the data, identify patterns, and make predictions or decisions.\\\\n- This process can be supervised (where the data is labeled with the desired outcome) or unsupervised (where the algorithm discovers patterns on its own).\\\\n\\\\n**4. Evaluation:**\\\\n- Once trained, ML models are evaluated to assess their performance on unseen data.\\\\n- Metrics like accuracy, precision, and recall are used to measure how well the model performs.\\\\n\\\\n**5. Applications:**\\\\n- ML has numerous applications in various industries, including:\\\\n    - Healthcare: Disease diagnosis, drug discovery, personalized medicine\\\\n    - Finance: Fraud detection, risk assessment, stock market prediction\\\\n    - Retail: Customer segmentation, personalized recommendations, inventory management\\\\n    - Transportation: Accident detection, traffic flow analysis, predictive maintenance\\\\n\\\\n**Benefits of Machine Learning:**\\\\n\\\\n- Automating tasks and decision-making\\\\n- Improving accuracy and efficiency\\\\n- Identifying patterns and relationships in data\\\\n- Making predictions based on data\\\\n- Reducing human bias and errors\\\\n\\\\n**Challenges of Machine Learning:**\\\\n\\\\n- Data quality and bias\\\\n- Algorithmic bias\\\\n- Explainability and transparency\\\\n- Ethical considerations\\\\n\\\\nOverall, machine learning is a rapidly evolving field with significant potential to revolutionize various industries.\", \\'output:\\'}'"
            ],
            "application/vnd.google.colaboratory.intrinsic+json": {
              "type": "string"
            }
          },
          "metadata": {},
          "execution_count": 23
        }
      ]
    },
    {
      "cell_type": "code",
      "source": [],
      "metadata": {
        "id": "8evKAZMonsYD"
      },
      "execution_count": null,
      "outputs": []
    }
  ]
}